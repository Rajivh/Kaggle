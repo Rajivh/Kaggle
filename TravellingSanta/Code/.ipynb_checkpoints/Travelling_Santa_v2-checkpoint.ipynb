{
 "cells": [
  {
   "cell_type": "code",
   "execution_count": 138,
   "metadata": {},
   "outputs": [],
   "source": [
    "import os\n",
    "import numpy as np\n",
    "import pandas as pd\n",
    "import matplotlib.pyplot as plt\n",
    "import math"
   ]
  },
  {
   "cell_type": "code",
   "execution_count": 139,
   "metadata": {},
   "outputs": [],
   "source": [
    "os.chdir(\"/Users/anon/GitHubRepos/Kaggle/TravellingSanta/Data\")"
   ]
  },
  {
   "cell_type": "code",
   "execution_count": 140,
   "metadata": {},
   "outputs": [],
   "source": [
    "city_data = pd.read_csv(\"cities.csv\")"
   ]
  },
  {
   "cell_type": "code",
   "execution_count": 141,
   "metadata": {},
   "outputs": [
    {
     "data": {
      "text/html": [
       "<div>\n",
       "<style scoped>\n",
       "    .dataframe tbody tr th:only-of-type {\n",
       "        vertical-align: middle;\n",
       "    }\n",
       "\n",
       "    .dataframe tbody tr th {\n",
       "        vertical-align: top;\n",
       "    }\n",
       "\n",
       "    .dataframe thead th {\n",
       "        text-align: right;\n",
       "    }\n",
       "</style>\n",
       "<table border=\"1\" class=\"dataframe\">\n",
       "  <thead>\n",
       "    <tr style=\"text-align: right;\">\n",
       "      <th></th>\n",
       "      <th>CityId</th>\n",
       "      <th>X</th>\n",
       "      <th>Y</th>\n",
       "    </tr>\n",
       "  </thead>\n",
       "  <tbody>\n",
       "    <tr>\n",
       "      <th>0</th>\n",
       "      <td>0</td>\n",
       "      <td>316.836739</td>\n",
       "      <td>2202.340707</td>\n",
       "    </tr>\n",
       "    <tr>\n",
       "      <th>1</th>\n",
       "      <td>1</td>\n",
       "      <td>4377.405972</td>\n",
       "      <td>336.602082</td>\n",
       "    </tr>\n",
       "    <tr>\n",
       "      <th>2</th>\n",
       "      <td>2</td>\n",
       "      <td>3454.158198</td>\n",
       "      <td>2820.053011</td>\n",
       "    </tr>\n",
       "    <tr>\n",
       "      <th>3</th>\n",
       "      <td>3</td>\n",
       "      <td>4688.099298</td>\n",
       "      <td>2935.898056</td>\n",
       "    </tr>\n",
       "    <tr>\n",
       "      <th>4</th>\n",
       "      <td>4</td>\n",
       "      <td>1010.696952</td>\n",
       "      <td>3236.750989</td>\n",
       "    </tr>\n",
       "  </tbody>\n",
       "</table>\n",
       "</div>"
      ],
      "text/plain": [
       "   CityId            X            Y\n",
       "0       0   316.836739  2202.340707\n",
       "1       1  4377.405972   336.602082\n",
       "2       2  3454.158198  2820.053011\n",
       "3       3  4688.099298  2935.898056\n",
       "4       4  1010.696952  3236.750989"
      ]
     },
     "execution_count": 141,
     "metadata": {},
     "output_type": "execute_result"
    }
   ],
   "source": [
    "city_data.head(5)"
   ]
  },
  {
   "cell_type": "code",
   "execution_count": 142,
   "metadata": {},
   "outputs": [],
   "source": [
    "city_data.columns = ['CityId','x_coord','y_coord']"
   ]
  },
  {
   "cell_type": "code",
   "execution_count": 143,
   "metadata": {},
   "outputs": [
    {
     "data": {
      "text/plain": [
       "(197769, 3)"
      ]
     },
     "execution_count": 143,
     "metadata": {},
     "output_type": "execute_result"
    }
   ],
   "source": [
    "city_data.shape"
   ]
  },
  {
   "cell_type": "code",
   "execution_count": null,
   "metadata": {},
   "outputs": [],
   "source": [
    "## creating a scatter plot of the x y coordinates of all the cities\n",
    "city_data.plot(kind=\"scatter\",x = \"x_coord\", y = \"y_coord\", alpha=0.1, figsize = (12,12))\n",
    "\n",
    "plt.show()"
   ]
  },
  {
   "cell_type": "code",
   "execution_count": 112,
   "metadata": {},
   "outputs": [],
   "source": [
    "## finding the distance between two locations\n",
    "# the euclidean distance can be calculated based on the formula\n",
    "\n",
    "def distance_calculation(i,j):\n",
    "    dist = (city_data.loc[city_data['CityId']==i,'x_coord'].values[0] - city_data.loc[city_data['CityId']==j,'x_coord'].values[0])**2+(city_data.loc[city_data['CityId']==i,'y_coord'].values[0] - city_data.loc[city_data['CityId']==j,'y_coord'].values[0])**2\n",
    "    return dist"
   ]
  },
  {
   "cell_type": "code",
   "execution_count": 144,
   "metadata": {},
   "outputs": [],
   "source": [
    "## finding the distance between two locations\n",
    "# the euclidean distance can be calculated based on the formula\n",
    "\n",
    "def distance_calculation_sample(i,j):\n",
    "    print(1)\n",
    "    print(i,j)\n",
    "    dist = (i[1] - j[1])**2 + (i[2] - j[2])**2\n",
    "    print(\"dist is\",dist)\n",
    "    return dist"
   ]
  },
  {
   "cell_type": "code",
   "execution_count": null,
   "metadata": {},
   "outputs": [],
   "source": [
    "distance = distance_calculation(77462,124109)\n",
    "#city_data.iloc[2,1]\n",
    "print(distance)"
   ]
  },
  {
   "cell_type": "code",
   "execution_count": 186,
   "metadata": {},
   "outputs": [],
   "source": [
    "##checking if a city id is a prime id\n",
    "def prime_check(x):\n",
    "    divisor_array = np.arange(2,(x/2)+1)\n",
    "    remainder_array = x%divisor_array\n",
    "    if 0 in remainder_array:\n",
    "        ## indicates non prime\n",
    "        return 0\n",
    "    else:\n",
    "        ##indicates prime\n",
    "        return 1\n",
    "\n",
    "            "
   ]
  },
  {
   "cell_type": "code",
   "execution_count": 9,
   "metadata": {},
   "outputs": [],
   "source": [
    "## Adding a column to data to indicate if city id is prime or not\n",
    "\n",
    "city_data['prime_or_not'] = city_data['CityId'].apply(lambda x: pd.Series(prime_check(x)))\n"
   ]
  },
  {
   "cell_type": "code",
   "execution_count": 151,
   "metadata": {},
   "outputs": [],
   "source": [
    "#city_data.head(10)"
   ]
  },
  {
   "cell_type": "markdown",
   "metadata": {},
   "source": [
    "## Creating a subset of the city data"
   ]
  },
  {
   "cell_type": "code",
   "execution_count": 206,
   "metadata": {},
   "outputs": [],
   "source": [
    "import random\n",
    "city_data.shape\n",
    "subset_index = random.sample(range(city_data.shape[0]), 30)"
   ]
  },
  {
   "cell_type": "code",
   "execution_count": 207,
   "metadata": {},
   "outputs": [],
   "source": [
    "## creating the sample city dataframe from the randomly generated indices in the previous step\n",
    "city_data_sample = city_data.iloc[subset_index,:]\n",
    "#type(subset_index)"
   ]
  },
  {
   "cell_type": "code",
   "execution_count": 208,
   "metadata": {},
   "outputs": [],
   "source": [
    "## Adding the city ID 0 as that is required from the start point\n",
    "city_data_sample = city_data_sample.append(city_data.loc[city_data['CityId']==0])"
   ]
  },
  {
   "cell_type": "code",
   "execution_count": 209,
   "metadata": {},
   "outputs": [],
   "source": [
    "city_data_sample.sort_values('CityId', inplace=True)\n",
    "#city_data.loc[city_data['CityId']==0]"
   ]
  },
  {
   "cell_type": "code",
   "execution_count": 210,
   "metadata": {},
   "outputs": [],
   "source": [
    "city_data_sample['prime_or_not'] = city_data_sample['CityId'].apply(lambda x : pd.Series(prime_check(x)))"
   ]
  },
  {
   "cell_type": "code",
   "execution_count": 211,
   "metadata": {},
   "outputs": [
    {
     "data": {
      "text/html": [
       "<div>\n",
       "<style scoped>\n",
       "    .dataframe tbody tr th:only-of-type {\n",
       "        vertical-align: middle;\n",
       "    }\n",
       "\n",
       "    .dataframe tbody tr th {\n",
       "        vertical-align: top;\n",
       "    }\n",
       "\n",
       "    .dataframe thead th {\n",
       "        text-align: right;\n",
       "    }\n",
       "</style>\n",
       "<table border=\"1\" class=\"dataframe\">\n",
       "  <thead>\n",
       "    <tr style=\"text-align: right;\">\n",
       "      <th></th>\n",
       "      <th>CityId</th>\n",
       "      <th>x_coord</th>\n",
       "      <th>y_coord</th>\n",
       "      <th>prime_or_not</th>\n",
       "    </tr>\n",
       "  </thead>\n",
       "  <tbody>\n",
       "    <tr>\n",
       "      <th>0</th>\n",
       "      <td>0</td>\n",
       "      <td>316.836739</td>\n",
       "      <td>2202.340707</td>\n",
       "      <td>1</td>\n",
       "    </tr>\n",
       "    <tr>\n",
       "      <th>3473</th>\n",
       "      <td>3473</td>\n",
       "      <td>4682.197710</td>\n",
       "      <td>2877.843390</td>\n",
       "      <td>0</td>\n",
       "    </tr>\n",
       "    <tr>\n",
       "      <th>6314</th>\n",
       "      <td>6314</td>\n",
       "      <td>2219.025165</td>\n",
       "      <td>313.670836</td>\n",
       "      <td>0</td>\n",
       "    </tr>\n",
       "    <tr>\n",
       "      <th>11376</th>\n",
       "      <td>11376</td>\n",
       "      <td>3833.459209</td>\n",
       "      <td>1824.151005</td>\n",
       "      <td>0</td>\n",
       "    </tr>\n",
       "    <tr>\n",
       "      <th>29310</th>\n",
       "      <td>29310</td>\n",
       "      <td>2957.346810</td>\n",
       "      <td>3205.398541</td>\n",
       "      <td>0</td>\n",
       "    </tr>\n",
       "    <tr>\n",
       "      <th>35600</th>\n",
       "      <td>35600</td>\n",
       "      <td>833.303266</td>\n",
       "      <td>2020.771112</td>\n",
       "      <td>0</td>\n",
       "    </tr>\n",
       "    <tr>\n",
       "      <th>39032</th>\n",
       "      <td>39032</td>\n",
       "      <td>1120.082185</td>\n",
       "      <td>2190.594450</td>\n",
       "      <td>0</td>\n",
       "    </tr>\n",
       "    <tr>\n",
       "      <th>42052</th>\n",
       "      <td>42052</td>\n",
       "      <td>101.844777</td>\n",
       "      <td>2787.094065</td>\n",
       "      <td>0</td>\n",
       "    </tr>\n",
       "    <tr>\n",
       "      <th>56093</th>\n",
       "      <td>56093</td>\n",
       "      <td>5088.225323</td>\n",
       "      <td>3101.449047</td>\n",
       "      <td>1</td>\n",
       "    </tr>\n",
       "    <tr>\n",
       "      <th>60189</th>\n",
       "      <td>60189</td>\n",
       "      <td>4194.458514</td>\n",
       "      <td>2363.200404</td>\n",
       "      <td>0</td>\n",
       "    </tr>\n",
       "    <tr>\n",
       "      <th>67895</th>\n",
       "      <td>67895</td>\n",
       "      <td>1728.159278</td>\n",
       "      <td>2363.665136</td>\n",
       "      <td>0</td>\n",
       "    </tr>\n",
       "    <tr>\n",
       "      <th>69833</th>\n",
       "      <td>69833</td>\n",
       "      <td>1789.247285</td>\n",
       "      <td>803.745573</td>\n",
       "      <td>1</td>\n",
       "    </tr>\n",
       "    <tr>\n",
       "      <th>86921</th>\n",
       "      <td>86921</td>\n",
       "      <td>2610.148681</td>\n",
       "      <td>751.579803</td>\n",
       "      <td>0</td>\n",
       "    </tr>\n",
       "    <tr>\n",
       "      <th>100499</th>\n",
       "      <td>100499</td>\n",
       "      <td>4961.914218</td>\n",
       "      <td>2253.298094</td>\n",
       "      <td>0</td>\n",
       "    </tr>\n",
       "    <tr>\n",
       "      <th>105762</th>\n",
       "      <td>105762</td>\n",
       "      <td>4422.806470</td>\n",
       "      <td>1538.347374</td>\n",
       "      <td>0</td>\n",
       "    </tr>\n",
       "    <tr>\n",
       "      <th>126037</th>\n",
       "      <td>126037</td>\n",
       "      <td>659.815696</td>\n",
       "      <td>2509.815812</td>\n",
       "      <td>1</td>\n",
       "    </tr>\n",
       "    <tr>\n",
       "      <th>127886</th>\n",
       "      <td>127886</td>\n",
       "      <td>4387.937747</td>\n",
       "      <td>1339.766746</td>\n",
       "      <td>0</td>\n",
       "    </tr>\n",
       "    <tr>\n",
       "      <th>128744</th>\n",
       "      <td>128744</td>\n",
       "      <td>3457.174985</td>\n",
       "      <td>152.647983</td>\n",
       "      <td>0</td>\n",
       "    </tr>\n",
       "    <tr>\n",
       "      <th>131686</th>\n",
       "      <td>131686</td>\n",
       "      <td>1875.858910</td>\n",
       "      <td>3089.215100</td>\n",
       "      <td>0</td>\n",
       "    </tr>\n",
       "    <tr>\n",
       "      <th>152167</th>\n",
       "      <td>152167</td>\n",
       "      <td>2662.042447</td>\n",
       "      <td>1585.279938</td>\n",
       "      <td>0</td>\n",
       "    </tr>\n",
       "    <tr>\n",
       "      <th>153008</th>\n",
       "      <td>153008</td>\n",
       "      <td>4577.441250</td>\n",
       "      <td>1208.201600</td>\n",
       "      <td>0</td>\n",
       "    </tr>\n",
       "    <tr>\n",
       "      <th>157668</th>\n",
       "      <td>157668</td>\n",
       "      <td>2054.170434</td>\n",
       "      <td>1444.839548</td>\n",
       "      <td>0</td>\n",
       "    </tr>\n",
       "    <tr>\n",
       "      <th>160946</th>\n",
       "      <td>160946</td>\n",
       "      <td>4470.327749</td>\n",
       "      <td>1552.540138</td>\n",
       "      <td>0</td>\n",
       "    </tr>\n",
       "    <tr>\n",
       "      <th>164398</th>\n",
       "      <td>164398</td>\n",
       "      <td>4960.987488</td>\n",
       "      <td>3212.148523</td>\n",
       "      <td>0</td>\n",
       "    </tr>\n",
       "    <tr>\n",
       "      <th>170069</th>\n",
       "      <td>170069</td>\n",
       "      <td>226.742582</td>\n",
       "      <td>2646.110815</td>\n",
       "      <td>0</td>\n",
       "    </tr>\n",
       "    <tr>\n",
       "      <th>173332</th>\n",
       "      <td>173332</td>\n",
       "      <td>3260.406972</td>\n",
       "      <td>2809.242305</td>\n",
       "      <td>0</td>\n",
       "    </tr>\n",
       "    <tr>\n",
       "      <th>175808</th>\n",
       "      <td>175808</td>\n",
       "      <td>2071.854501</td>\n",
       "      <td>1144.633367</td>\n",
       "      <td>0</td>\n",
       "    </tr>\n",
       "    <tr>\n",
       "      <th>178024</th>\n",
       "      <td>178024</td>\n",
       "      <td>3255.023928</td>\n",
       "      <td>2649.214200</td>\n",
       "      <td>0</td>\n",
       "    </tr>\n",
       "    <tr>\n",
       "      <th>186478</th>\n",
       "      <td>186478</td>\n",
       "      <td>2014.898530</td>\n",
       "      <td>42.729882</td>\n",
       "      <td>0</td>\n",
       "    </tr>\n",
       "    <tr>\n",
       "      <th>187454</th>\n",
       "      <td>187454</td>\n",
       "      <td>246.362160</td>\n",
       "      <td>3280.581396</td>\n",
       "      <td>0</td>\n",
       "    </tr>\n",
       "    <tr>\n",
       "      <th>196191</th>\n",
       "      <td>196191</td>\n",
       "      <td>5042.482366</td>\n",
       "      <td>3202.683528</td>\n",
       "      <td>0</td>\n",
       "    </tr>\n",
       "  </tbody>\n",
       "</table>\n",
       "</div>"
      ],
      "text/plain": [
       "        CityId      x_coord      y_coord  prime_or_not\n",
       "0            0   316.836739  2202.340707             1\n",
       "3473      3473  4682.197710  2877.843390             0\n",
       "6314      6314  2219.025165   313.670836             0\n",
       "11376    11376  3833.459209  1824.151005             0\n",
       "29310    29310  2957.346810  3205.398541             0\n",
       "35600    35600   833.303266  2020.771112             0\n",
       "39032    39032  1120.082185  2190.594450             0\n",
       "42052    42052   101.844777  2787.094065             0\n",
       "56093    56093  5088.225323  3101.449047             1\n",
       "60189    60189  4194.458514  2363.200404             0\n",
       "67895    67895  1728.159278  2363.665136             0\n",
       "69833    69833  1789.247285   803.745573             1\n",
       "86921    86921  2610.148681   751.579803             0\n",
       "100499  100499  4961.914218  2253.298094             0\n",
       "105762  105762  4422.806470  1538.347374             0\n",
       "126037  126037   659.815696  2509.815812             1\n",
       "127886  127886  4387.937747  1339.766746             0\n",
       "128744  128744  3457.174985   152.647983             0\n",
       "131686  131686  1875.858910  3089.215100             0\n",
       "152167  152167  2662.042447  1585.279938             0\n",
       "153008  153008  4577.441250  1208.201600             0\n",
       "157668  157668  2054.170434  1444.839548             0\n",
       "160946  160946  4470.327749  1552.540138             0\n",
       "164398  164398  4960.987488  3212.148523             0\n",
       "170069  170069   226.742582  2646.110815             0\n",
       "173332  173332  3260.406972  2809.242305             0\n",
       "175808  175808  2071.854501  1144.633367             0\n",
       "178024  178024  3255.023928  2649.214200             0\n",
       "186478  186478  2014.898530    42.729882             0\n",
       "187454  187454   246.362160  3280.581396             0\n",
       "196191  196191  5042.482366  3202.683528             0"
      ]
     },
     "execution_count": 211,
     "metadata": {},
     "output_type": "execute_result"
    }
   ],
   "source": [
    "city_data_sample"
   ]
  },
  {
   "cell_type": "code",
   "execution_count": null,
   "metadata": {},
   "outputs": [],
   "source": [
    "## Just checking if the city Id 0 was already part of the randomly generated index\n",
    "city_data_sample.loc[city_data_sample['CityId']==0]"
   ]
  },
  {
   "cell_type": "code",
   "execution_count": null,
   "metadata": {},
   "outputs": [],
   "source": [
    "print(max(city_data_sample['y_coord']), min(city_data_sample['y_coord']))"
   ]
  },
  {
   "cell_type": "code",
   "execution_count": null,
   "metadata": {},
   "outputs": [],
   "source": [
    "print(max(city_data_sample['x_coord']), min(city_data_sample['x_coord']))"
   ]
  },
  {
   "cell_type": "code",
   "execution_count": null,
   "metadata": {},
   "outputs": [],
   "source": [
    "center_x_coord = (max(city_data_sample['x_coord'])- min(city_data_sample['x_coord']))/2"
   ]
  },
  {
   "cell_type": "code",
   "execution_count": null,
   "metadata": {},
   "outputs": [],
   "source": [
    "center_y_coord = (max(city_data_sample['y_coord'])- min(city_data_sample['y_coord']))/2"
   ]
  },
  {
   "cell_type": "code",
   "execution_count": null,
   "metadata": {},
   "outputs": [],
   "source": [
    "print(center_x_coord, center_y_coord)"
   ]
  },
  {
   "cell_type": "markdown",
   "metadata": {},
   "source": [
    "## Creating imaginary square shaped clusters over the entire space"
   ]
  },
  {
   "cell_type": "code",
   "execution_count": null,
   "metadata": {},
   "outputs": [],
   "source": [
    "## Size of each square assuming we will have a total of 25 squares (5 rows and 5 columns)\n",
    "square_x_dim = (max(city_data_sample['x_coord']) - min(city_data_sample['x_coord']))/3\n",
    "square_y_dim = (max(city_data_sample['y_coord']) - min(city_data_sample['y_coord']))/3"
   ]
  },
  {
   "cell_type": "code",
   "execution_count": null,
   "metadata": {},
   "outputs": [],
   "source": [
    "print(square_x_dim, square_y_dim)"
   ]
  },
  {
   "cell_type": "code",
   "execution_count": null,
   "metadata": {},
   "outputs": [],
   "source": [
    "city_data_sample.loc[city_data_sample['x_coord']==38.0819264150771]\n",
    "city_data_sample.loc[city_data_sample['y_coord']==min(city_data_sample['y_coord'])]"
   ]
  },
  {
   "cell_type": "code",
   "execution_count": null,
   "metadata": {},
   "outputs": [],
   "source": [
    "square_x_points = []\n",
    "square_y_points = []\n",
    "x_min = min(city_data_sample['x_coord'])\n",
    "y_min = min(city_data_sample['y_coord'])\n",
    "for i in range(0,4):\n",
    "    square_x_points.append(x_min + (square_x_dim * i))\n",
    "    square_y_points.append(y_min + (square_y_dim * i))\n"
   ]
  },
  {
   "cell_type": "code",
   "execution_count": null,
   "metadata": {},
   "outputs": [],
   "source": [
    "square_x_points"
   ]
  },
  {
   "cell_type": "code",
   "execution_count": null,
   "metadata": {},
   "outputs": [],
   "source": [
    "square_y_points"
   ]
  },
  {
   "cell_type": "markdown",
   "metadata": {},
   "source": [
    "### finding all the cities that lie within each squares"
   ]
  },
  {
   "cell_type": "code",
   "execution_count": null,
   "metadata": {},
   "outputs": [],
   "source": [
    "## np.digitize is to allocate the value to the appropriate bin\n",
    "city_data_sample['Cluster_x'] = np.digitize(city_data_sample['x_coord'],square_x_points)"
   ]
  },
  {
   "cell_type": "code",
   "execution_count": null,
   "metadata": {},
   "outputs": [],
   "source": [
    "city_data_sample['Cluster_y'] = np.digitize(city_data_sample['y_coord'],square_y_points)"
   ]
  },
  {
   "cell_type": "code",
   "execution_count": null,
   "metadata": {},
   "outputs": [],
   "source": [
    "city_data_sample['Square_number'] = (city_data_sample['Cluster_y']-1)*5 + city_data_sample['Cluster_x']"
   ]
  },
  {
   "cell_type": "code",
   "execution_count": null,
   "metadata": {},
   "outputs": [],
   "source": [
    "def Squarenumber_calculation(x,y):\n",
    "    if y%2==0:\n",
    "        square_number = (y*3 - x) + 1\n",
    "    elif y%2 != 0:\n",
    "        square_number = (y-1)*3 + x\n",
    "    return square_number\n",
    "        "
   ]
  },
  {
   "cell_type": "code",
   "execution_count": null,
   "metadata": {},
   "outputs": [],
   "source": [
    "## if cluster_y is even then reverse \n",
    "city_data_sample['Square_number'] = city_data_sample.apply(lambda x : Squarenumber_calculation(x['Cluster_x'],x['Cluster_y']), axis=1)"
   ]
  },
  {
   "cell_type": "code",
   "execution_count": null,
   "metadata": {},
   "outputs": [],
   "source": [
    "city_data_sample.loc[city_data_sample['CityId']==0]"
   ]
  },
  {
   "cell_type": "markdown",
   "metadata": {},
   "source": [
    "#### finding the sequence of movement for each square - it is from the starting point to the diagonally opposite point , from that point to the next square's diagonally opposite point and so on\n",
    "find the euclidean distance of all points within a square and rank them in ascending order ending at the diagonal opposite point"
   ]
  },
  {
   "cell_type": "code",
   "execution_count": null,
   "metadata": {},
   "outputs": [],
   "source": [
    "square_clusters = city_data_sample.loc[city_data_sample['Square_number']==1,['CityId','x_coord','y_coord']]"
   ]
  },
  {
   "cell_type": "code",
   "execution_count": null,
   "metadata": {},
   "outputs": [],
   "source": [
    "#square_clusters['x_coord']+square_clusters['y_coord'].argmax()\n",
    "square_clusters['total'] = square_clusters['x_coord'] + square_clusters['y_coord']\n",
    "start_point = square_clusters.loc[square_clusters['total'].idxmin(),'CityId']\n",
    "end_point = square_clusters.loc[square_clusters['total'].idxmax(),'CityId']\n"
   ]
  },
  {
   "cell_type": "code",
   "execution_count": null,
   "metadata": {},
   "outputs": [],
   "source": [
    "#end_point\n",
    "square_clusters['distance'] = square_clusters.apply(lambda x : distance_calculation(start_point, x['CityId']), axis=1)"
   ]
  },
  {
   "cell_type": "code",
   "execution_count": null,
   "metadata": {},
   "outputs": [],
   "source": [
    "square_clusters['rank'] = square_clusters['distance'].rank()"
   ]
  },
  {
   "cell_type": "code",
   "execution_count": null,
   "metadata": {},
   "outputs": [],
   "source": [
    "square_clusters.loc[square_clusters['rank'].idxmax(),['CityId']].values[0]"
   ]
  },
  {
   "cell_type": "code",
   "execution_count": null,
   "metadata": {},
   "outputs": [],
   "source": [
    "## Looping from 1 to 5; have a counter; check if the counter is a divisibel of 5 or 10. If 5, double the cluster \n",
    "## number and then start reversing the count, If divisbible by 10, double the cluster number and start increasing the\n",
    "## count\n",
    "\n",
    "## after each cluster is completed - how to transistion to the next; Just find the nearest point and make that point\n",
    "## as the starting point of that cluster\n"
   ]
  },
  {
   "cell_type": "code",
   "execution_count": null,
   "metadata": {},
   "outputs": [],
   "source": [
    "move_sequence = []\n",
    "for i in range(1,26):\n",
    "    square_clusters = city_data_sample.loc[city_data_sample['Square_number']==i,['CityId','x_coord','y_coord']]\n",
    "    square_clusters['total'] = square_clusters['x_coord'] + square_clusters['y_coord']\n",
    "    if i==1:\n",
    "        start_point = square_clusters.loc[square_clusters['total'].idxmin(),'CityId']\n",
    "    else:\n",
    "        square_clusters['start_point'] = square_clusters.apply(lambda x: distance_calculation(end_point, x['CityId']), axis = 1)\n",
    "        start_point = square_clusters.loc[square_clusters['start_point'].idxmin(),['CityId']].values[0]\n",
    "    square_clusters['distance'] = square_clusters.apply(lambda x : distance_calculation(start_point, x['CityId']), axis=1)\n",
    "    square_clusters['rank'] = square_clusters['distance'].rank()\n",
    "    end_point = square_clusters.loc[square_clusters['rank'].idxmax(),['CityId']].values[0]\n",
    "    for j in range(1,square_clusters.shape[0]+1):\n",
    "        move_sequence.append(square_clusters.loc[square_clusters['rank']==j,'CityId'].values[0])\n",
    " \n",
    "\n",
    "\n",
    "        \n",
    "        "
   ]
  },
  {
   "cell_type": "code",
   "execution_count": 182,
   "metadata": {},
   "outputs": [],
   "source": [
    "\n",
    "def optimized_travelling_salesman(points):\n",
    "    start = points[0]\n",
    "    must_visit = points\n",
    "    path = [start[0]]\n",
    "    must_visit.remove(start)\n",
    "   # i = 0\n",
    "    while must_visit:\n",
    "        #i +=1 \n",
    "        #print(start)\n",
    "        #print(must_visit)\n",
    "        #nearest = max([distance_calculation_sample(start,b) for b in must_visit], key=lambda x: x[0])\n",
    "        index, element = min(enumerate([distance_calculation_sample(start,b) for b in must_visit]), key=itemgetter(1))\n",
    "\n",
    "        print(\"nearest is\", index)\n",
    "        path.append(must_visit[index][0])\n",
    "        start = must_visit[index]\n",
    "        must_visit.remove(must_visit[index])\n",
    "    return path\n"
   ]
  },
  {
   "cell_type": "code",
   "execution_count": null,
   "metadata": {},
   "outputs": [],
   "source": [
    "\n",
    "def optimized_travelling_salesman_prime(points):\n",
    "    start = points[0]\n",
    "    must_visit = points\n",
    "    path = [start[0]]\n",
    "    must_visit.remove(start)\n",
    "    i = 0\n",
    "    while must_visit:\n",
    "        i +=1 \n",
    "        #print(start)\n",
    "        #print(must_visit)\n",
    "        #nearest = max([distance_calculation_sample(start,b) for b in must_visit], key=lambda x: x[0])\n",
    "        if i%10==0:\n",
    "        index, element = min(enumerate([distance_calculation_sample(start,b) for b in must_visit]), key=itemgetter(1))\n",
    "        if i = \n",
    "\n",
    "        print(\"nearest is\", index)\n",
    "        path.append(must_visit[index][0])\n",
    "        start = must_visit[index]\n",
    "        must_visit.remove(must_visit[index])\n",
    "    return path"
   ]
  },
  {
   "cell_type": "code",
   "execution_count": 128,
   "metadata": {},
   "outputs": [],
   "source": [
    "## am trying to find the min of the distance between the start point and all the other points - to find the next point\n",
    "## to move to. The points are in a list - with the city ID, the x and y coords. Two lists are supplied at a time\n",
    "## to the distance function. It works fine for the first few times and on the last call, it says float not \n",
    "## subscriptable"
   ]
  },
  {
   "cell_type": "code",
   "execution_count": 183,
   "metadata": {},
   "outputs": [
    {
     "data": {
      "text/plain": [
       "[[0.0, 316.83673906150904, 2202.34070733524],\n",
       " [71013.0, 4487.486952787271, 1703.56950314701],\n",
       " [106170.0, 391.52053928624395, 2603.54100032504],\n",
       " [136316.0, 4581.93253534236, 2085.46005339031],\n",
       " [141544.0, 2184.82141978833, 579.942225272318],\n",
       " [181640.0, 2709.9612323762303, 1255.25904189294]]"
      ]
     },
     "execution_count": 183,
     "metadata": {},
     "output_type": "execute_result"
    }
   ],
   "source": [
    "xy_points = city_data_sample.values[:,0:3].tolist()\n",
    "xy_points"
   ]
  },
  {
   "cell_type": "code",
   "execution_count": 173,
   "metadata": {},
   "outputs": [
    {
     "name": "stdout",
     "output_type": "stream",
     "text": [
      "[0.0, 316.83673906150904, 2202.34070733524]\n",
      "[0.0]\n",
      "0.0\n"
     ]
    }
   ],
   "source": [
    "start = xy_points[0]\n",
    "print(start)\n",
    "path = [start[0]]\n",
    "print(path)\n",
    "must_visit = xy_points\n",
    "print(must_visit[0][0])"
   ]
  },
  {
   "cell_type": "code",
   "execution_count": 184,
   "metadata": {},
   "outputs": [
    {
     "name": "stdout",
     "output_type": "stream",
     "text": [
      "1\n",
      "[0.0, 316.83673906150904, 2202.34070733524] [71013.0, 4487.486952787271, 1703.56950314701]\n",
      "dist is 17643095.919378113\n",
      "1\n",
      "[0.0, 316.83673906150904, 2202.34070733524] [106170.0, 391.52053928624395, 2603.54100032504]\n",
      "dist is 166539.34511110937\n",
      "1\n",
      "[0.0, 316.83673906150904, 2202.34070733524] [136316.0, 4581.93253534236, 2085.46005339031]\n",
      "dist is 18204703.238719177\n",
      "1\n",
      "[0.0, 316.83673906150904, 2202.34070733524] [141544.0, 2184.82141978833, 579.942225272318]\n",
      "dist is 6121543.602030156\n",
      "1\n",
      "[0.0, 316.83673906150904, 2202.34070733524] [181640.0, 2709.9612323762303, 1255.25904189294]\n",
      "dist is 6624008.521519802\n",
      "nearest is 1\n",
      "1\n",
      "[106170.0, 391.52053928624395, 2603.54100032504] [71013.0, 4487.486952787271, 1703.56950314701]\n",
      "dist is 17586889.556261327\n",
      "1\n",
      "[106170.0, 391.52053928624395, 2603.54100032504] [136316.0, 4581.93253534236, 2085.46005339031]\n",
      "dist is 17827960.56426779\n",
      "1\n",
      "[106170.0, 391.52053928624395, 2603.54100032504] [141544.0, 2184.82141978833, 579.942225272318]\n",
      "dist is 7310880.050404433\n",
      "1\n",
      "[106170.0, 391.52053928624395, 2603.54100032504] [181640.0, 2709.9612323762303, 1255.25904189294]\n",
      "dist is 7193031.486809075\n",
      "nearest is 3\n",
      "1\n",
      "[181640.0, 2709.9612323762303, 1255.25904189294] [71013.0, 4487.486952787271, 1703.56950314701]\n",
      "dist is 3360579.956392625\n",
      "1\n",
      "[181640.0, 2709.9612323762303, 1255.25904189294] [136316.0, 4581.93253534236, 2085.46005339031]\n",
      "dist is 4193510.2786199655\n",
      "1\n",
      "[181640.0, 2709.9612323762303, 1255.25904189294] [141544.0, 2184.82141978833, 579.942225272318]\n",
      "dist is 731824.6255754663\n",
      "nearest is 2\n",
      "1\n",
      "[141544.0, 2184.82141978833, 579.942225272318] [71013.0, 4487.486952787271, 1703.56950314701]\n",
      "dist is 6564806.816445387\n",
      "1\n",
      "[141544.0, 2184.82141978833, 579.942225272318] [136316.0, 4581.93253534236, 2085.46005339031]\n",
      "dist is 8012725.631093802\n",
      "nearest is 0\n",
      "1\n",
      "[71013.0, 4487.486952787271, 1703.56950314701] [136316.0, 4581.93253534236, 2085.46005339031]\n",
      "dist is 154760.36042930058\n",
      "nearest is 0\n"
     ]
    }
   ],
   "source": [
    "path_list = optimized_travelling_salesman(xy_points)"
   ]
  },
  {
   "cell_type": "code",
   "execution_count": 185,
   "metadata": {},
   "outputs": [
    {
     "data": {
      "text/plain": [
       "[0.0, 106170.0, 181640.0, 141544.0, 71013.0, 136316.0]"
      ]
     },
     "execution_count": 185,
     "metadata": {},
     "output_type": "execute_result"
    }
   ],
   "source": [
    "path_list"
   ]
  },
  {
   "cell_type": "code",
   "execution_count": 34,
   "metadata": {},
   "outputs": [],
   "source": [
    "def sum_test(x,y):\n",
    "    return x+y"
   ]
  },
  {
   "cell_type": "code",
   "execution_count": 120,
   "metadata": {},
   "outputs": [],
   "source": [
    "s = [3,4,5]\n",
    "e = [2]\n",
    "result = min([sum_test(a,b) for a in e for b in s ])"
   ]
  },
  {
   "cell_type": "code",
   "execution_count": 121,
   "metadata": {},
   "outputs": [
    {
     "name": "stdout",
     "output_type": "stream",
     "text": [
      "5\n"
     ]
    }
   ],
   "source": [
    "print(result)"
   ]
  },
  {
   "cell_type": "code",
   "execution_count": 124,
   "metadata": {},
   "outputs": [
    {
     "ename": "TypeError",
     "evalue": "'int' object is not subscriptable",
     "output_type": "error",
     "traceback": [
      "\u001b[0;31m---------------------------------------------------------------------------\u001b[0m",
      "\u001b[0;31mTypeError\u001b[0m                                 Traceback (most recent call last)",
      "\u001b[0;32m<ipython-input-124-b97e944608ce>\u001b[0m in \u001b[0;36m<module>\u001b[0;34m()\u001b[0m\n\u001b[1;32m      1\u001b[0m \u001b[0;32mfrom\u001b[0m \u001b[0moperator\u001b[0m \u001b[0;32mimport\u001b[0m \u001b[0mitemgetter\u001b[0m\u001b[0;34m\u001b[0m\u001b[0m\n\u001b[0;32m----> 2\u001b[0;31m \u001b[0mindex\u001b[0m\u001b[0;34m,\u001b[0m \u001b[0melement\u001b[0m \u001b[0;34m=\u001b[0m \u001b[0mmax\u001b[0m\u001b[0;34m(\u001b[0m\u001b[0;34m[\u001b[0m\u001b[0msum_test\u001b[0m\u001b[0;34m(\u001b[0m\u001b[0ma\u001b[0m\u001b[0;34m,\u001b[0m\u001b[0mb\u001b[0m\u001b[0;34m)\u001b[0m \u001b[0;32mfor\u001b[0m \u001b[0ma\u001b[0m \u001b[0;32min\u001b[0m \u001b[0me\u001b[0m \u001b[0;32mfor\u001b[0m \u001b[0mb\u001b[0m \u001b[0;32min\u001b[0m \u001b[0ms\u001b[0m \u001b[0;34m]\u001b[0m\u001b[0;34m,\u001b[0m \u001b[0mkey\u001b[0m\u001b[0;34m=\u001b[0m\u001b[0mitemgetter\u001b[0m\u001b[0;34m(\u001b[0m\u001b[0;36m0\u001b[0m\u001b[0;34m)\u001b[0m\u001b[0;34m)\u001b[0m\u001b[0;34m\u001b[0m\u001b[0m\n\u001b[0m",
      "\u001b[0;31mTypeError\u001b[0m: 'int' object is not subscriptable"
     ]
    }
   ],
   "source": [
    "from operator import itemgetter\n",
    "index, element = max([sum_test(a,b) for a in e for b in s ], key=itemgetter(0))"
   ]
  },
  {
   "cell_type": "code",
   "execution_count": 125,
   "metadata": {},
   "outputs": [],
   "source": [
    "from operator import itemgetter\n",
    "\n",
    "index, element = max(enumerate([sum_test(a,b) for a in e for b in s ]), key=itemgetter(1))"
   ]
  },
  {
   "cell_type": "code",
   "execution_count": 126,
   "metadata": {},
   "outputs": [
    {
     "name": "stdout",
     "output_type": "stream",
     "text": [
      "2 7\n"
     ]
    }
   ],
   "source": [
    "print(index, element)"
   ]
  },
  {
   "cell_type": "code",
   "execution_count": 149,
   "metadata": {},
   "outputs": [
    {
     "data": {
      "text/html": [
       "<div>\n",
       "<style scoped>\n",
       "    .dataframe tbody tr th:only-of-type {\n",
       "        vertical-align: middle;\n",
       "    }\n",
       "\n",
       "    .dataframe tbody tr th {\n",
       "        vertical-align: top;\n",
       "    }\n",
       "\n",
       "    .dataframe thead th {\n",
       "        text-align: right;\n",
       "    }\n",
       "</style>\n",
       "<table border=\"1\" class=\"dataframe\">\n",
       "  <thead>\n",
       "    <tr style=\"text-align: right;\">\n",
       "      <th></th>\n",
       "      <th>CityId</th>\n",
       "      <th>x_coord</th>\n",
       "      <th>y_coord</th>\n",
       "    </tr>\n",
       "  </thead>\n",
       "  <tbody>\n",
       "    <tr>\n",
       "      <th>4365</th>\n",
       "      <td>4365.0</td>\n",
       "      <td>3070.075724</td>\n",
       "      <td>98.558769</td>\n",
       "    </tr>\n",
       "    <tr>\n",
       "      <th>8594</th>\n",
       "      <td>8594.0</td>\n",
       "      <td>1991.752267</td>\n",
       "      <td>366.626968</td>\n",
       "    </tr>\n",
       "    <tr>\n",
       "      <th>81320</th>\n",
       "      <td>81320.0</td>\n",
       "      <td>2766.037620</td>\n",
       "      <td>1487.923231</td>\n",
       "    </tr>\n",
       "  </tbody>\n",
       "</table>\n",
       "</div>"
      ],
      "text/plain": [
       "        CityId      x_coord      y_coord\n",
       "4365    4365.0  3070.075724    98.558769\n",
       "8594    8594.0  1991.752267   366.626968\n",
       "81320  81320.0  2766.037620  1487.923231"
      ]
     },
     "execution_count": 149,
     "metadata": {},
     "output_type": "execute_result"
    }
   ],
   "source": [
    "city_data_sample.head(3)"
   ]
  },
  {
   "cell_type": "code",
   "execution_count": 98,
   "metadata": {},
   "outputs": [],
   "source": [
    "xy_points = city_data_sample.values[:,0:3].tolist()"
   ]
  },
  {
   "cell_type": "code",
   "execution_count": 78,
   "metadata": {},
   "outputs": [
    {
     "data": {
      "text/plain": [
       "[[2413.0, 1687.18138925181, 293.737878040991],\n",
       " [129987.0, 4651.73871497208, 2391.76209483912],\n",
       " [108429.0, 2426.27707945246, 2871.4821345706396],\n",
       " [150003.0, 2733.5342765100895, 1813.75629464121],\n",
       " [736.0, 2899.27777777778, 1773.44544061674],\n",
       " [0.0, 316.83673906150904, 2202.34070733524]]"
      ]
     },
     "execution_count": 78,
     "metadata": {},
     "output_type": "execute_result"
    }
   ],
   "source": [
    "xy_points"
   ]
  },
  {
   "cell_type": "code",
   "execution_count": 53,
   "metadata": {},
   "outputs": [
    {
     "data": {
      "text/html": [
       "<div>\n",
       "<style scoped>\n",
       "    .dataframe tbody tr th:only-of-type {\n",
       "        vertical-align: middle;\n",
       "    }\n",
       "\n",
       "    .dataframe tbody tr th {\n",
       "        vertical-align: top;\n",
       "    }\n",
       "\n",
       "    .dataframe thead th {\n",
       "        text-align: right;\n",
       "    }\n",
       "</style>\n",
       "<table border=\"1\" class=\"dataframe\">\n",
       "  <thead>\n",
       "    <tr style=\"text-align: right;\">\n",
       "      <th></th>\n",
       "      <th>CityId</th>\n",
       "      <th>x_coord</th>\n",
       "      <th>y_coord</th>\n",
       "      <th>prime_or_not</th>\n",
       "    </tr>\n",
       "  </thead>\n",
       "  <tbody>\n",
       "    <tr>\n",
       "      <th>2413</th>\n",
       "      <td>2413.0</td>\n",
       "      <td>1687.181389</td>\n",
       "      <td>293.737878</td>\n",
       "      <td>0.0</td>\n",
       "    </tr>\n",
       "  </tbody>\n",
       "</table>\n",
       "</div>"
      ],
      "text/plain": [
       "      CityId      x_coord     y_coord  prime_or_not\n",
       "2413  2413.0  1687.181389  293.737878           0.0"
      ]
     },
     "execution_count": 53,
     "metadata": {},
     "output_type": "execute_result"
    }
   ],
   "source": [
    "city_data_sample.loc[city_data_sample['CityId']==2413]"
   ]
  },
  {
   "cell_type": "code",
   "execution_count": null,
   "metadata": {},
   "outputs": [],
   "source": [
    "\n",
    "\n",
    "def main():\n",
    "    doctest.testmod()\n",
    "    points = [[0, 0], [1, 5.7], [2, 3], [3, 7],\n",
    "              [0.5, 9], [3, 5], [9, 1], [10, 5]]\n",
    "    print(\"\"\"The minimum distance to visit all the following points: {}\n",
    "starting at {} is {}.\n",
    "\n"
   ]
  },
  {
   "cell_type": "code",
   "execution_count": null,
   "metadata": {},
   "outputs": [],
   "source": [
    "move_sequence = []\n",
    "for j in range(1,square_clusters.shape[0]+1):\n",
    "        move_sequence.append(square_clusters.loc[square_clusters['rank']==j,'CityId'].values[0])\n",
    "    "
   ]
  },
  {
   "cell_type": "code",
   "execution_count": null,
   "metadata": {},
   "outputs": [],
   "source": [
    "move_sequence"
   ]
  },
  {
   "cell_type": "markdown",
   "metadata": {},
   "source": [
    "## The below code is to draw ellipse. Not to be used now"
   ]
  },
  {
   "cell_type": "code",
   "execution_count": null,
   "metadata": {},
   "outputs": [],
   "source": [
    "import numpy as np\n",
    "import matplotlib.pyplot as plt\n",
    "from matplotlib.patches import Ellipse\n",
    "\n",
    "def eigsorted(cov):\n",
    "    vals, vecs = np.linalg.eigh(cov)\n",
    "    order = vals.argsort()[::-1]\n",
    "    return vals[order], vecs[:,order]\n",
    "\n",
    "x = [5,7,11,15,16,17,18]\n",
    "y = [25, 18, 17, 9, 8, 5, 8]\n",
    "\n",
    "nstd = 2\n",
    "ax = plt.subplot(111)\n",
    "\n",
    "cov = np.cov(x, y)\n",
    "vals, vecs = eigsorted(cov)\n",
    "theta = np.degrees(np.arctan2(*vecs[:,0][::-1]))\n",
    "w, h = 2 * nstd * np.sqrt(vals)\n",
    "ell = Ellipse(xy=(np.mean(x), np.mean(y)),\n",
    "              width=w, height=h,\n",
    "              angle=theta, color='black')\n",
    "ell.set_facecolor('none')\n",
    "ax.add_artist(ell)\n",
    "plt.scatter(x, y)\n",
    "plt.show()"
   ]
  },
  {
   "cell_type": "code",
   "execution_count": null,
   "metadata": {},
   "outputs": [],
   "source": []
  }
 ],
 "metadata": {
  "kernelspec": {
   "display_name": "Python 3",
   "language": "python",
   "name": "python3"
  },
  "language_info": {
   "codemirror_mode": {
    "name": "ipython",
    "version": 3
   },
   "file_extension": ".py",
   "mimetype": "text/x-python",
   "name": "python",
   "nbconvert_exporter": "python",
   "pygments_lexer": "ipython3",
   "version": "3.6.3"
  }
 },
 "nbformat": 4,
 "nbformat_minor": 2
}
