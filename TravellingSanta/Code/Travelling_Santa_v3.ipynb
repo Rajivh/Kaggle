{
 "cells": [
  {
   "cell_type": "code",
   "execution_count": 1,
   "metadata": {},
   "outputs": [],
   "source": [
    "import os\n",
    "import numpy as np\n",
    "import pandas as pd\n",
    "import matplotlib.pyplot as plt\n",
    "import math\n",
    "from operator import itemgetter"
   ]
  },
  {
   "cell_type": "code",
   "execution_count": 2,
   "metadata": {},
   "outputs": [],
   "source": [
    "os.chdir(\"/Users/anon/GitHubRepos/Kaggle/TravellingSanta/Data\")"
   ]
  },
  {
   "cell_type": "code",
   "execution_count": 3,
   "metadata": {},
   "outputs": [],
   "source": [
    "city_data = pd.read_csv(\"cities.csv\")"
   ]
  },
  {
   "cell_type": "code",
   "execution_count": 4,
   "metadata": {},
   "outputs": [
    {
     "data": {
      "text/html": [
       "<div>\n",
       "<style scoped>\n",
       "    .dataframe tbody tr th:only-of-type {\n",
       "        vertical-align: middle;\n",
       "    }\n",
       "\n",
       "    .dataframe tbody tr th {\n",
       "        vertical-align: top;\n",
       "    }\n",
       "\n",
       "    .dataframe thead th {\n",
       "        text-align: right;\n",
       "    }\n",
       "</style>\n",
       "<table border=\"1\" class=\"dataframe\">\n",
       "  <thead>\n",
       "    <tr style=\"text-align: right;\">\n",
       "      <th></th>\n",
       "      <th>CityId</th>\n",
       "      <th>X</th>\n",
       "      <th>Y</th>\n",
       "    </tr>\n",
       "  </thead>\n",
       "  <tbody>\n",
       "    <tr>\n",
       "      <th>0</th>\n",
       "      <td>0</td>\n",
       "      <td>316.836739</td>\n",
       "      <td>2202.340707</td>\n",
       "    </tr>\n",
       "    <tr>\n",
       "      <th>1</th>\n",
       "      <td>1</td>\n",
       "      <td>4377.405972</td>\n",
       "      <td>336.602082</td>\n",
       "    </tr>\n",
       "    <tr>\n",
       "      <th>2</th>\n",
       "      <td>2</td>\n",
       "      <td>3454.158198</td>\n",
       "      <td>2820.053011</td>\n",
       "    </tr>\n",
       "    <tr>\n",
       "      <th>3</th>\n",
       "      <td>3</td>\n",
       "      <td>4688.099298</td>\n",
       "      <td>2935.898056</td>\n",
       "    </tr>\n",
       "    <tr>\n",
       "      <th>4</th>\n",
       "      <td>4</td>\n",
       "      <td>1010.696952</td>\n",
       "      <td>3236.750989</td>\n",
       "    </tr>\n",
       "  </tbody>\n",
       "</table>\n",
       "</div>"
      ],
      "text/plain": [
       "   CityId            X            Y\n",
       "0       0   316.836739  2202.340707\n",
       "1       1  4377.405972   336.602082\n",
       "2       2  3454.158198  2820.053011\n",
       "3       3  4688.099298  2935.898056\n",
       "4       4  1010.696952  3236.750989"
      ]
     },
     "execution_count": 4,
     "metadata": {},
     "output_type": "execute_result"
    }
   ],
   "source": [
    "city_data.head(5)"
   ]
  },
  {
   "cell_type": "code",
   "execution_count": 5,
   "metadata": {},
   "outputs": [],
   "source": [
    "city_data.columns = ['CityId','x_coord','y_coord']"
   ]
  },
  {
   "cell_type": "code",
   "execution_count": 6,
   "metadata": {},
   "outputs": [
    {
     "data": {
      "text/plain": [
       "(197769, 3)"
      ]
     },
     "execution_count": 6,
     "metadata": {},
     "output_type": "execute_result"
    }
   ],
   "source": [
    "city_data.shape"
   ]
  },
  {
   "cell_type": "code",
   "execution_count": null,
   "metadata": {},
   "outputs": [],
   "source": [
    "## creating a scatter plot of the x y coordinates of all the cities\n",
    "city_data.plot(kind=\"scatter\",x = \"x_coord\", y = \"y_coord\", alpha=0.1, figsize = (12,12))\n",
    "\n",
    "plt.show()"
   ]
  },
  {
   "cell_type": "code",
   "execution_count": 7,
   "metadata": {},
   "outputs": [],
   "source": [
    "## finding the distance between two locations\n",
    "# the euclidean distance can be calculated based on the formula\n",
    "\n",
    "def distance_calculation_sample(i,j):\n",
    "    #print(1)\n",
    "    #print(i,j)\n",
    "    dist = (i[1] - j[1])**2 + (i[2] - j[2])**2\n",
    "    #print(\"dist is\",dist)\n",
    "    return dist"
   ]
  },
  {
   "cell_type": "code",
   "execution_count": 8,
   "metadata": {},
   "outputs": [],
   "source": [
    "\n",
    "def move_sequence(points):\n",
    "    start = points[0]\n",
    "    must_visit = points\n",
    "    path = [start[0]]\n",
    "    must_visit.remove(start)\n",
    "   # i = 0\n",
    "    while must_visit:\n",
    "        #i +=1 \n",
    "        #print(start)\n",
    "        #print(must_visit)\n",
    "        #nearest = max([distance_calculation_sample(start,b) for b in must_visit], key=lambda x: x[0])\n",
    "        index, element = min(enumerate([distance_calculation_sample(start,b) for b in must_visit]), key=itemgetter(1))\n",
    "\n",
    "        #print(\"nearest is\", index)\n",
    "        path.append(must_visit[index][0])\n",
    "        start = must_visit[index]\n",
    "        must_visit.remove(must_visit[index])\n",
    "    return path\n"
   ]
  },
  {
   "cell_type": "code",
   "execution_count": 128,
   "metadata": {},
   "outputs": [],
   "source": [
    "## am trying to find the min of the distance between the start point and all the other points - to find the next point\n",
    "## to move to. The points are in a list - with the city ID, the x and y coords. Two lists are supplied at a time\n",
    "## to the distance function. It works fine for the first few times and on the last call, it says float not \n",
    "## subscriptable"
   ]
  },
  {
   "cell_type": "code",
   "execution_count": 9,
   "metadata": {},
   "outputs": [],
   "source": [
    "xy_points = city_data.values[:,0:3].tolist()\n",
    "#xy_points"
   ]
  },
  {
   "cell_type": "code",
   "execution_count": 10,
   "metadata": {},
   "outputs": [],
   "source": [
    "path_list = move_sequence(xy_points)"
   ]
  },
  {
   "cell_type": "code",
   "execution_count": 13,
   "metadata": {},
   "outputs": [
    {
     "data": {
      "text/plain": [
       "[0.0, 78934.0]"
      ]
     },
     "execution_count": 13,
     "metadata": {},
     "output_type": "execute_result"
    }
   ],
   "source": [
    "path_list[:2]"
   ]
  },
  {
   "cell_type": "code",
   "execution_count": 15,
   "metadata": {},
   "outputs": [],
   "source": [
    "path_list_copy = path_list"
   ]
  },
  {
   "cell_type": "code",
   "execution_count": 21,
   "metadata": {},
   "outputs": [],
   "source": [
    "path_list_df = pd.DataFrame({'CityId':path_list})"
   ]
  },
  {
   "cell_type": "code",
   "execution_count": 23,
   "metadata": {},
   "outputs": [],
   "source": [
    "path_list_df.to_csv(\"path_list_v1.csv\")"
   ]
  },
  {
   "cell_type": "code",
   "execution_count": null,
   "metadata": {},
   "outputs": [],
   "source": []
  }
 ],
 "metadata": {
  "kernelspec": {
   "display_name": "Python 3",
   "language": "python",
   "name": "python3"
  },
  "language_info": {
   "codemirror_mode": {
    "name": "ipython",
    "version": 3
   },
   "file_extension": ".py",
   "mimetype": "text/x-python",
   "name": "python",
   "nbconvert_exporter": "python",
   "pygments_lexer": "ipython3",
   "version": "3.6.3"
  }
 },
 "nbformat": 4,
 "nbformat_minor": 2
}
